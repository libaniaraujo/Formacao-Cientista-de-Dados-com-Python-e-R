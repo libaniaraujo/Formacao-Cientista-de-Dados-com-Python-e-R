{
 "cells": [
  {
   "cell_type": "markdown",
   "id": "08ddde54",
   "metadata": {},
   "source": [
    "# Estatística"
   ]
  },
  {
   "cell_type": "markdown",
   "id": "678f6180",
   "metadata": {},
   "source": [
    "### CONCEITOS GERAIS:\n",
    "\n",
    "#### Definição:\n",
    "- Estatística é a ciência que se utiliza das teorias probabilísticas para explicar a frequência da ocorrência de eventos.\n",
    "- A Estatítstica depende de interpretação, escolhas e resultados.\n",
    "\n",
    "#### Principais divisões:\n",
    "- Estatística Descritiva: Organizar, demonstrar e resumir dados.\n",
    "- Estatística Probabilística: Analisar situações sujeitas ao acaso.\n",
    "- Estatística Inferencial: Obter respostas sobre um fenômeno com dados representativos.\n",
    "\n",
    "#### Observação x Experimentos:\n",
    "- Observação: Estudo em que os elementos analisados não são afetados (pesquisa).\n",
    "- Experimento: Condições ou tratamentos são impostos a grupos para avaliar o resultado.\n",
    "\n",
    "#### Variáveis:\n",
    "- Quantitativas: Númericas\n",
    "  * Contínuas: Valores reais, podem assumir qualquer intervalo.\n",
    "  * Discretas: Números fixos, inteiros (ex.: quantidade de filhos).\n",
    "- Qualitativas:\n",
    "  * Nominais: Categorias sem hierarquia.\n",
    "  * Ordinais: Categorias com hierarquia.\n",
    "  \n",
    "#### Análise Exploratória de Dados (EDA):\n",
    "- Busca obter informações ocultas sobre os dados (variação, anomalias, distribuição, tendências, padrões, relações).\n",
    "- Primeiro deve-se iniciar a análise de dados pela EDA, só então decidir como buscar a solução para o problema.\n",
    "- EDA e gráficos não são a mesma coisa, porém EDA é altamente baseada na produção de gráficos.\n",
    "\n",
    "#### Estocástico x Deterministico:\n",
    "- Estocástico (ou Aleatório): Dada uma mesma entrada, a saída pode variar.\n",
    "- Determinístico (ou Não-Aleatório): Dada uma mesma entrada, apresenta sempre a mesma saída.\n",
    "\n",
    "#### Estatística Paramétrica x Estatística Não Paramétrica:\n",
    "- Estatística Paramétrica:\n",
    "  * Requer que os dados estejam em conformidade com alguma distribuição.\n",
    "  * Ex.: Distribuição normal.\n",
    "- Estatística Não Paramétrica:\n",
    "  * Quando os dados não estão em conformidade com alguma distribuição.\n",
    "  * Ex.: Quando não se conhece a distribuição dos dados.\n",
    "- A estatística paramétrica oferece menos riscos. Por exemplo, se os dados estão normalmente distribuídos, um teste de hipótese paramétrico tende a ser mais preciso do que um teste não paramétrico.\n",
    "\n",
    "#### Teoria Central do Limite:\n",
    "- Conforme o tamanho da amostra aumenta, a distribuição das médias amostrais se aproxima cada vez mais da distribuição normal.\n",
    "- Independentemente de como os dados estão distribuídos, suas médias estarão normalmente distribuídas.\n",
    "\n",
    "#### Intervalos de Confiança:\n",
    "- É possível inferir características de uma população a partir de uma amostra.\n",
    "- Como estamos utilizando amostra devemos esperar variação. A primeira amostra pode variar com relação a segunda, a segunda com relação a terceira, etc. Mas devemos medir o quanto pode ser esta variação.\n",
    "- Intervalo de Confiança: O parâmetro mais ou menos a margem de erro estimada.\n",
    "- Parâmetro: valor a ser estimado.\n",
    "- Margem de Erro: variabilidade, para mais ou para menos.\n",
    "- Nível de Confiança: de 80 a 99%.\n",
    "- Tamanho da amostra (n).\n",
    "- Nível de Confiança: z*.\n",
    "- Exemplo:\n",
    "  * Entre 63 e 67% dos entrevistados pretendem votar em Maria, com um nível de confiança de 95%.\n",
    "  * Parâmetro: Intenção de voto (proporção).\n",
    "  * Nível de confiança: 95%.\n",
    "  * Intervalo de confiança: 63 e 67%.\n",
    "  * Erro Padrão: 1,96.\n",
    "  * Entrevistados (n) = 1000.\n",
    "- Maior nível de confiança => Maior erro padrão.\n",
    "- Maior tamanho da amostra => Menor erro padrão.\n",
    "- Tipos de intervalo de confiança:\n",
    "  * Intervalo de confiança para a média.\n",
    "    Exemplo:\n",
    "    - Estimar o salário médio de um cientista de dados.\n",
    "    - Amostra (n): 100 cientistas de dados.\n",
    "    - Intervalo de confiança: 95%.\n",
    "    - Desvio Padrão: 1100 reais\n",
    "    - Média: 5800 reais\n",
    "    - Valor de z*: 1,96\n",
    "    - Margem de erro: +-215,60 reais\n",
    "    - O salário médio de um cientista de dados é entre 5584,40 e 6015,60 com o nível de confiança de 95%. Ou há 95% de chance do  salário médio de um cientista de dados está entre 5584,40 e 6015,60.\n",
    "  * Intervalo de confiança para a proporção.\n",
    "    Exemplo:\n",
    "    - Estimar a proporção de eleitores que pretendem votar em um determinado candidato para prefeito.\n",
    "    - Amostra (n): 100 eleitores.\n",
    "    - Intervalo de confiança: 95%.\n",
    "    - 650 eleitores votam em Maria => p = 650/100 = 0,65\n",
    "    - 330 eleitores votam em João => p = 330/100 = 0,33\n",
    "    - 20 eleitores ainda não sabem em quem votar => 20/100 = 0,02\n",
    "    - Valor de z* = 1,96\n",
    "    - Entre 62 e 68% pretendem votar em Maria, com nível de confiança de 95%.\n",
    "    \n",
    "#### Teste de Hipótese:\n",
    "- Confirmar ou negar uma premissa.\n",
    "- Esta premissa usa um parâmetro, por exemplo: 56% dos brasileiros não gostam de estatística.\n",
    "- Encontrar diferença não é tudo, é preciso saber se esta diferença é estatisticamente significante.\n",
    "- Hipótese nula (H0): Alegação que se quer testar.\n",
    "  Pressume-se que H0 é verdadeira, a não serque exista evidências para provar que não.\n",
    "- Hipótese alternativa (H1).\n",
    "- Níveis de alfa:\n",
    "  * 0,05\n",
    "  * 0,01\n",
    "- Interpretar valor p:\n",
    "  * valor p >= alfa : Não rejeita H0.\n",
    "  * valor p <= alfa : Rejeita H0.\n",
    "- Etapas para fazer um teste de hipótese:\n",
    "  1. Definir o tamanho da amostra\n",
    "  2. Coletar dados\n",
    "  3. Calcular a média e o desvio padrão\n",
    "  4. Definir as duas hipóteses (H0 e H1)\n",
    "  5. Definir o alfa\n",
    "  6. Padronizar seus dados gerando a estatística de teste\n",
    "  7. Encontrar o valor p na tabela Z\n",
    "  8. Comparar com seu alfa\n",
    "  9. Emitir seu veredito\n",
    "  \n",
    "#### Métricas de erro:\n",
    "\n",
    "- Métricas de erro de valores numéricos:\n",
    "  * Números reais, inteiros\n",
    "  * Métricas diferentes da previsão de categorias\n",
    "  * Uso: Regressão Linear, Regressão ML, Séries Temporais, etc.\n",
    "  * Existe uma diferença entre a previsão e o que realmente aconteceu.\n",
    "  * Precisamos medir essa diferença:\n",
    "    - Para saber a qualidade de nosso modelo\n",
    "    - Para podermos melhorá-lo\n",
    "    - Para podermos fazer benchmark\n",
    "  * MEAN ERROR (ME):\n",
    "    - Dependente de escala\n",
    "    - A média da diferença entre realizado e previsto\n",
    "  * MEAN ABSOLUTE ERROR (MAE):\n",
    "    - Dependente de escala\n",
    "    - A média da diferença absoluta entre o realizado e o previsto\n",
    "  * ROOT MEAN SQUARED ERROR (RMSE):\n",
    "    - Independente de escala\n",
    "    - O desvio padrão da amostra da diferença entre o previsto e o teste\n",
    "  * MEAN PERCENTAGE ERROR (MPE):\n",
    "    - Independente de escala (%)\n",
    "    - Diferença percentual de erro\n",
    "  * MEAN ABSOLUTE PERCENTEGE ERROR (MAPE):\n",
    "    - Independente de escala (%)\n",
    "    - Diferença absoluta percentual de erro"
   ]
  },
  {
   "cell_type": "markdown",
   "id": "d3b87c50",
   "metadata": {},
   "source": [
    "## 1. Amostragem\n",
    "\n",
    "#### Amostra:\n",
    "- Parte de uma população, selecionada usando alguma técnica que dê chances iguais a todos os elementos da população de serem selecionados.\n",
    "\n",
    "#### Conceitos:\n",
    "- População: alvo do estudo.\n",
    "- Amostra: subconjunto da população.\n",
    "- Censo: pesquisa com toda a população.\n",
    "\n",
    "#### Por que utilizar a amostra?\n",
    "- Pode ser caro ou impossível inferir sobre toda a população (censo).\n",
    "- É possível inferir sobre uma amostra:\n",
    "  * Uma amostra feita corretamente deve representar as mesmas características da população de onde foi retirada.\n",
    "  * Se ela não representa a população dizemos que ela é enviesada.\n",
    "\n",
    "#### Enviesamento:\n",
    "- Ocorre quando você subestima ou superestima o parâmetro da população.\n",
    "- Causas:\n",
    "  * Pesquisa de pessoas próximas ou de fácil acesso.\n",
    "  * Pesquisas pela internet.\n",
    "  * Sem uso de mecanismo de seleção aleatório.\n",
    "  \n",
    "#### Custo da amostra:\n",
    "- Margem de erro e nível de confiança.\n",
    "- Variação: amostras diferentes podem apresentar resultados diferentes.\n",
    "- Podemos medir a variação esperada.\n",
    "\n",
    "#### Principais tipos de amostra:\n",
    "- Aleatória Simples.\n",
    "- Estratificada.\n",
    "- Sistemática."
   ]
  },
  {
   "cell_type": "markdown",
   "id": "0b58bf4e",
   "metadata": {},
   "source": [
    "### 1.1. Amostragem aleatória simples\n",
    "\n",
    "- Um determinado tipo de elementos é retirado da população de forma aleatória.\n",
    "- Todos os elementos da população alvo do processo de amostragem, devem ter as mesmas chances de serem selecionados para fazer parte da amostra.\n",
    "- Dois tipos:\n",
    "  * Com reposição.\n",
    "  * Sem reposição."
   ]
  },
  {
   "cell_type": "code",
   "execution_count": 1,
   "id": "ebc58e3a",
   "metadata": {},
   "outputs": [],
   "source": [
    "# Importando as bibliotecas\n",
    "import pandas as pd\n",
    "import numpy as np"
   ]
  },
  {
   "cell_type": "code",
   "execution_count": 3,
   "id": "603c16aa",
   "metadata": {},
   "outputs": [
    {
     "data": {
      "text/html": [
       "<div>\n",
       "<style scoped>\n",
       "    .dataframe tbody tr th:only-of-type {\n",
       "        vertical-align: middle;\n",
       "    }\n",
       "\n",
       "    .dataframe tbody tr th {\n",
       "        vertical-align: top;\n",
       "    }\n",
       "\n",
       "    .dataframe thead th {\n",
       "        text-align: right;\n",
       "    }\n",
       "</style>\n",
       "<table border=\"1\" class=\"dataframe\">\n",
       "  <thead>\n",
       "    <tr style=\"text-align: right;\">\n",
       "      <th></th>\n",
       "      <th>sepal length</th>\n",
       "      <th>sepal width</th>\n",
       "      <th>petal length</th>\n",
       "      <th>petal width</th>\n",
       "      <th>class</th>\n",
       "    </tr>\n",
       "  </thead>\n",
       "  <tbody>\n",
       "    <tr>\n",
       "      <th>0</th>\n",
       "      <td>5.1</td>\n",
       "      <td>3.5</td>\n",
       "      <td>1.4</td>\n",
       "      <td>0.2</td>\n",
       "      <td>Iris-setosa</td>\n",
       "    </tr>\n",
       "    <tr>\n",
       "      <th>1</th>\n",
       "      <td>4.9</td>\n",
       "      <td>3.0</td>\n",
       "      <td>1.4</td>\n",
       "      <td>0.2</td>\n",
       "      <td>Iris-setosa</td>\n",
       "    </tr>\n",
       "    <tr>\n",
       "      <th>2</th>\n",
       "      <td>4.7</td>\n",
       "      <td>3.2</td>\n",
       "      <td>1.3</td>\n",
       "      <td>0.2</td>\n",
       "      <td>Iris-setosa</td>\n",
       "    </tr>\n",
       "    <tr>\n",
       "      <th>3</th>\n",
       "      <td>4.6</td>\n",
       "      <td>3.1</td>\n",
       "      <td>1.5</td>\n",
       "      <td>0.2</td>\n",
       "      <td>Iris-setosa</td>\n",
       "    </tr>\n",
       "    <tr>\n",
       "      <th>4</th>\n",
       "      <td>5.0</td>\n",
       "      <td>3.6</td>\n",
       "      <td>1.4</td>\n",
       "      <td>0.2</td>\n",
       "      <td>Iris-setosa</td>\n",
       "    </tr>\n",
       "    <tr>\n",
       "      <th>...</th>\n",
       "      <td>...</td>\n",
       "      <td>...</td>\n",
       "      <td>...</td>\n",
       "      <td>...</td>\n",
       "      <td>...</td>\n",
       "    </tr>\n",
       "    <tr>\n",
       "      <th>145</th>\n",
       "      <td>6.7</td>\n",
       "      <td>3.0</td>\n",
       "      <td>5.2</td>\n",
       "      <td>2.3</td>\n",
       "      <td>Iris-virginica</td>\n",
       "    </tr>\n",
       "    <tr>\n",
       "      <th>146</th>\n",
       "      <td>6.3</td>\n",
       "      <td>2.5</td>\n",
       "      <td>5.0</td>\n",
       "      <td>1.9</td>\n",
       "      <td>Iris-virginica</td>\n",
       "    </tr>\n",
       "    <tr>\n",
       "      <th>147</th>\n",
       "      <td>6.5</td>\n",
       "      <td>3.0</td>\n",
       "      <td>5.2</td>\n",
       "      <td>2.0</td>\n",
       "      <td>Iris-virginica</td>\n",
       "    </tr>\n",
       "    <tr>\n",
       "      <th>148</th>\n",
       "      <td>6.2</td>\n",
       "      <td>3.4</td>\n",
       "      <td>5.4</td>\n",
       "      <td>2.3</td>\n",
       "      <td>Iris-virginica</td>\n",
       "    </tr>\n",
       "    <tr>\n",
       "      <th>149</th>\n",
       "      <td>5.9</td>\n",
       "      <td>3.0</td>\n",
       "      <td>5.1</td>\n",
       "      <td>1.8</td>\n",
       "      <td>Iris-virginica</td>\n",
       "    </tr>\n",
       "  </tbody>\n",
       "</table>\n",
       "<p>150 rows × 5 columns</p>\n",
       "</div>"
      ],
      "text/plain": [
       "     sepal length  sepal width  petal length  petal width           class\n",
       "0             5.1          3.5           1.4          0.2     Iris-setosa\n",
       "1             4.9          3.0           1.4          0.2     Iris-setosa\n",
       "2             4.7          3.2           1.3          0.2     Iris-setosa\n",
       "3             4.6          3.1           1.5          0.2     Iris-setosa\n",
       "4             5.0          3.6           1.4          0.2     Iris-setosa\n",
       "..            ...          ...           ...          ...             ...\n",
       "145           6.7          3.0           5.2          2.3  Iris-virginica\n",
       "146           6.3          2.5           5.0          1.9  Iris-virginica\n",
       "147           6.5          3.0           5.2          2.0  Iris-virginica\n",
       "148           6.2          3.4           5.4          2.3  Iris-virginica\n",
       "149           5.9          3.0           5.1          1.8  Iris-virginica\n",
       "\n",
       "[150 rows x 5 columns]"
      ]
     },
     "execution_count": 3,
     "metadata": {},
     "output_type": "execute_result"
    }
   ],
   "source": [
    "# Carregando a base de dados\n",
    "base = pd.read_csv('Dados/iris.csv')\n",
    "base"
   ]
  },
  {
   "cell_type": "code",
   "execution_count": 4,
   "id": "4cb7af10",
   "metadata": {},
   "outputs": [
    {
     "data": {
      "text/plain": [
       "(150, 5)"
      ]
     },
     "execution_count": 4,
     "metadata": {},
     "output_type": "execute_result"
    }
   ],
   "source": [
    "# Verificar quantas linhas e colunas existem na base de dados, 150 linhas e 5 colunas\n",
    "base.shape"
   ]
  },
  {
   "cell_type": "code",
   "execution_count": 5,
   "id": "700a754d",
   "metadata": {},
   "outputs": [],
   "source": [
    "# Mudança da semente aleatória randômica para manter os resultados em várias execuções\n",
    "np.random.seed(2345)"
   ]
  },
  {
   "cell_type": "code",
   "execution_count": 6,
   "id": "ef628bc0",
   "metadata": {},
   "outputs": [],
   "source": [
    "# 150 amostras, de 0 a 1, com reposição, probabilidades equivalentes\n",
    "amostra = np.random.choice(a = [0,1], size=150, replace = True, p = [0.7, 0.3])"
   ]
  },
  {
   "cell_type": "code",
   "execution_count": 7,
   "id": "744344c8",
   "metadata": {},
   "outputs": [
    {
     "data": {
      "text/plain": [
       "49"
      ]
     },
     "execution_count": 7,
     "metadata": {},
     "output_type": "execute_result"
    }
   ],
   "source": [
    "# Verificar tamanho da amostra para valores igual a 1 e 0\n",
    "len(amostra[amostra==1])"
   ]
  },
  {
   "cell_type": "code",
   "execution_count": 8,
   "id": "1571a53c",
   "metadata": {},
   "outputs": [
    {
     "data": {
      "text/plain": [
       "101"
      ]
     },
     "execution_count": 8,
     "metadata": {},
     "output_type": "execute_result"
    }
   ],
   "source": [
    "len(amostra[amostra==0])"
   ]
  },
  {
   "cell_type": "code",
   "execution_count": 10,
   "id": "fd0ecf3f",
   "metadata": {},
   "outputs": [
    {
     "data": {
      "text/plain": [
       "array([0, 0, 0, 0, 1, 0, 0, 0, 1, 0, 0, 1, 0, 1, 0, 0, 1, 0, 1, 1, 1, 0,\n",
       "       0, 1, 1, 1, 0, 1, 0, 0, 1, 0, 0, 1, 1, 0, 1, 0, 0, 0, 1, 0, 1, 0,\n",
       "       0, 0, 0, 0, 0, 0, 1, 1, 0, 0, 0, 0, 0, 0, 0, 0, 0, 1, 0, 0, 1, 0,\n",
       "       0, 1, 0, 0, 1, 0, 0, 0, 0, 1, 0, 1, 0, 0, 1, 1, 0, 0, 0, 0, 0, 0,\n",
       "       0, 0, 0, 0, 1, 0, 1, 1, 1, 1, 1, 1, 0, 0, 0, 0, 0, 0, 0, 0, 1, 0,\n",
       "       0, 0, 0, 0, 0, 0, 0, 0, 1, 0, 0, 0, 0, 0, 1, 1, 1, 0, 1, 0, 1, 1,\n",
       "       1, 0, 0, 0, 0, 0, 0, 0, 0, 1, 1, 0, 0, 1, 1, 0, 0, 1])"
      ]
     },
     "execution_count": 10,
     "metadata": {},
     "output_type": "execute_result"
    }
   ],
   "source": [
    "amostra"
   ]
  },
  {
   "cell_type": "code",
   "execution_count": 9,
   "id": "f69fdc2c",
   "metadata": {},
   "outputs": [
    {
     "data": {
      "text/plain": [
       "(101, 5)"
      ]
     },
     "execution_count": 9,
     "metadata": {},
     "output_type": "execute_result"
    }
   ],
   "source": [
    "base_final = base.loc[amostra==0]\n",
    "base_final.shape"
   ]
  },
  {
   "cell_type": "markdown",
   "id": "0b9c41df",
   "metadata": {},
   "source": [
    "### 1.2. Amostragem sistemática\n",
    "- Neste tipo de amostragem, é escolhido um elemento aleatório, e a partir daí, a cada N elementos um novo membro é escolhido."
   ]
  },
  {
   "cell_type": "code",
   "execution_count": 11,
   "id": "7ae6ef8d",
   "metadata": {},
   "outputs": [],
   "source": [
    "# Importando bibliotecas\n",
    "import pandas as pd\n",
    "import numpy as np\n",
    "from numpy import ceil"
   ]
  },
  {
   "cell_type": "code",
   "execution_count": 12,
   "id": "355734db",
   "metadata": {},
   "outputs": [
    {
     "name": "stdout",
     "output_type": "stream",
     "text": [
      "10.0\n"
     ]
    }
   ],
   "source": [
    "# Criação das variáveis para representar a população, a amostra e o valor k\n",
    "populacao = 150\n",
    "amostra = 15\n",
    "k = ceil(populacao / amostra)\n",
    "print(k)"
   ]
  },
  {
   "cell_type": "code",
   "execution_count": 13,
   "id": "2081a363",
   "metadata": {},
   "outputs": [
    {
     "name": "stdout",
     "output_type": "stream",
     "text": [
      "[10]\n"
     ]
    }
   ],
   "source": [
    "# Definição do valor randômico para inicializar a amostra, iniciando em 1 até k+1\n",
    "r = np.random.randint(low = 1, high = k + 1, size = 1)\n",
    "print(r)"
   ]
  },
  {
   "cell_type": "code",
   "execution_count": 14,
   "id": "a8e95f13",
   "metadata": {},
   "outputs": [
    {
     "name": "stdout",
     "output_type": "stream",
     "text": [
      "[10, 20.0, 30.0, 40.0, 50.0, 60.0, 70.0, 80.0, 90.0, 100.0, 110.0, 120.0, 130.0, 140.0, 150.0]\n"
     ]
    }
   ],
   "source": [
    "# Criamos um for para somar os próximos valores, baseado no primeiro valor r que foi definido acima\n",
    "acumulador = r[0]\n",
    "sorteados = []\n",
    "for i in range(amostra):\n",
    "    # print(acumulador)\n",
    "    sorteados.append(acumulador)\n",
    "    acumulador += k\n",
    "print(sorteados)"
   ]
  },
  {
   "cell_type": "code",
   "execution_count": 15,
   "id": "c776137f",
   "metadata": {},
   "outputs": [
    {
     "data": {
      "text/plain": [
       "15"
      ]
     },
     "execution_count": 15,
     "metadata": {},
     "output_type": "execute_result"
    }
   ],
   "source": [
    "len(sorteados)"
   ]
  },
  {
   "cell_type": "code",
   "execution_count": 19,
   "id": "31dc7b87",
   "metadata": {},
   "outputs": [],
   "source": [
    "# Carregando a base de dados e criamos a base_final somente com os valores sorteados\n",
    "base = pd.read_csv('Dados/iris.csv')"
   ]
  },
  {
   "cell_type": "code",
   "execution_count": 22,
   "id": "d9b41591",
   "metadata": {},
   "outputs": [
    {
     "ename": "KeyError",
     "evalue": "'sorteados'",
     "output_type": "error",
     "traceback": [
      "\u001b[1;31m---------------------------------------------------------------------------\u001b[0m",
      "\u001b[1;31mKeyError\u001b[0m                                  Traceback (most recent call last)",
      "\u001b[1;32m<ipython-input-22-d3bfacadbfb5>\u001b[0m in \u001b[0;36m<module>\u001b[1;34m\u001b[0m\n\u001b[1;32m----> 1\u001b[1;33m \u001b[0mbase_final\u001b[0m \u001b[1;33m=\u001b[0m \u001b[0mbase\u001b[0m\u001b[1;33m.\u001b[0m\u001b[0mloc\u001b[0m\u001b[1;33m[\u001b[0m\u001b[1;34m'sorteados'\u001b[0m\u001b[1;33m]\u001b[0m\u001b[1;33m\u001b[0m\u001b[1;33m\u001b[0m\u001b[0m\n\u001b[0m\u001b[0;32m      2\u001b[0m \u001b[0mbase_final\u001b[0m\u001b[1;33m\u001b[0m\u001b[1;33m\u001b[0m\u001b[0m\n",
      "\u001b[1;32m~\\anaconda3\\lib\\site-packages\\pandas\\core\\indexing.py\u001b[0m in \u001b[0;36m__getitem__\u001b[1;34m(self, key)\u001b[0m\n\u001b[0;32m    893\u001b[0m \u001b[1;33m\u001b[0m\u001b[0m\n\u001b[0;32m    894\u001b[0m             \u001b[0mmaybe_callable\u001b[0m \u001b[1;33m=\u001b[0m \u001b[0mcom\u001b[0m\u001b[1;33m.\u001b[0m\u001b[0mapply_if_callable\u001b[0m\u001b[1;33m(\u001b[0m\u001b[0mkey\u001b[0m\u001b[1;33m,\u001b[0m \u001b[0mself\u001b[0m\u001b[1;33m.\u001b[0m\u001b[0mobj\u001b[0m\u001b[1;33m)\u001b[0m\u001b[1;33m\u001b[0m\u001b[1;33m\u001b[0m\u001b[0m\n\u001b[1;32m--> 895\u001b[1;33m             \u001b[1;32mreturn\u001b[0m \u001b[0mself\u001b[0m\u001b[1;33m.\u001b[0m\u001b[0m_getitem_axis\u001b[0m\u001b[1;33m(\u001b[0m\u001b[0mmaybe_callable\u001b[0m\u001b[1;33m,\u001b[0m \u001b[0maxis\u001b[0m\u001b[1;33m=\u001b[0m\u001b[0maxis\u001b[0m\u001b[1;33m)\u001b[0m\u001b[1;33m\u001b[0m\u001b[1;33m\u001b[0m\u001b[0m\n\u001b[0m\u001b[0;32m    896\u001b[0m \u001b[1;33m\u001b[0m\u001b[0m\n\u001b[0;32m    897\u001b[0m     \u001b[1;32mdef\u001b[0m \u001b[0m_is_scalar_access\u001b[0m\u001b[1;33m(\u001b[0m\u001b[0mself\u001b[0m\u001b[1;33m,\u001b[0m \u001b[0mkey\u001b[0m\u001b[1;33m:\u001b[0m \u001b[0mTuple\u001b[0m\u001b[1;33m)\u001b[0m\u001b[1;33m:\u001b[0m\u001b[1;33m\u001b[0m\u001b[1;33m\u001b[0m\u001b[0m\n",
      "\u001b[1;32m~\\anaconda3\\lib\\site-packages\\pandas\\core\\indexing.py\u001b[0m in \u001b[0;36m_getitem_axis\u001b[1;34m(self, key, axis)\u001b[0m\n\u001b[0;32m   1122\u001b[0m         \u001b[1;31m# fall thru to straight lookup\u001b[0m\u001b[1;33m\u001b[0m\u001b[1;33m\u001b[0m\u001b[1;33m\u001b[0m\u001b[0m\n\u001b[0;32m   1123\u001b[0m         \u001b[0mself\u001b[0m\u001b[1;33m.\u001b[0m\u001b[0m_validate_key\u001b[0m\u001b[1;33m(\u001b[0m\u001b[0mkey\u001b[0m\u001b[1;33m,\u001b[0m \u001b[0maxis\u001b[0m\u001b[1;33m)\u001b[0m\u001b[1;33m\u001b[0m\u001b[1;33m\u001b[0m\u001b[0m\n\u001b[1;32m-> 1124\u001b[1;33m         \u001b[1;32mreturn\u001b[0m \u001b[0mself\u001b[0m\u001b[1;33m.\u001b[0m\u001b[0m_get_label\u001b[0m\u001b[1;33m(\u001b[0m\u001b[0mkey\u001b[0m\u001b[1;33m,\u001b[0m \u001b[0maxis\u001b[0m\u001b[1;33m=\u001b[0m\u001b[0maxis\u001b[0m\u001b[1;33m)\u001b[0m\u001b[1;33m\u001b[0m\u001b[1;33m\u001b[0m\u001b[0m\n\u001b[0m\u001b[0;32m   1125\u001b[0m \u001b[1;33m\u001b[0m\u001b[0m\n\u001b[0;32m   1126\u001b[0m     \u001b[1;32mdef\u001b[0m \u001b[0m_get_slice_axis\u001b[0m\u001b[1;33m(\u001b[0m\u001b[0mself\u001b[0m\u001b[1;33m,\u001b[0m \u001b[0mslice_obj\u001b[0m\u001b[1;33m:\u001b[0m \u001b[0mslice\u001b[0m\u001b[1;33m,\u001b[0m \u001b[0maxis\u001b[0m\u001b[1;33m:\u001b[0m \u001b[0mint\u001b[0m\u001b[1;33m)\u001b[0m\u001b[1;33m:\u001b[0m\u001b[1;33m\u001b[0m\u001b[1;33m\u001b[0m\u001b[0m\n",
      "\u001b[1;32m~\\anaconda3\\lib\\site-packages\\pandas\\core\\indexing.py\u001b[0m in \u001b[0;36m_get_label\u001b[1;34m(self, label, axis)\u001b[0m\n\u001b[0;32m   1071\u001b[0m     \u001b[1;32mdef\u001b[0m \u001b[0m_get_label\u001b[0m\u001b[1;33m(\u001b[0m\u001b[0mself\u001b[0m\u001b[1;33m,\u001b[0m \u001b[0mlabel\u001b[0m\u001b[1;33m,\u001b[0m \u001b[0maxis\u001b[0m\u001b[1;33m:\u001b[0m \u001b[0mint\u001b[0m\u001b[1;33m)\u001b[0m\u001b[1;33m:\u001b[0m\u001b[1;33m\u001b[0m\u001b[1;33m\u001b[0m\u001b[0m\n\u001b[0;32m   1072\u001b[0m         \u001b[1;31m# GH#5667 this will fail if the label is not present in the axis.\u001b[0m\u001b[1;33m\u001b[0m\u001b[1;33m\u001b[0m\u001b[1;33m\u001b[0m\u001b[0m\n\u001b[1;32m-> 1073\u001b[1;33m         \u001b[1;32mreturn\u001b[0m \u001b[0mself\u001b[0m\u001b[1;33m.\u001b[0m\u001b[0mobj\u001b[0m\u001b[1;33m.\u001b[0m\u001b[0mxs\u001b[0m\u001b[1;33m(\u001b[0m\u001b[0mlabel\u001b[0m\u001b[1;33m,\u001b[0m \u001b[0maxis\u001b[0m\u001b[1;33m=\u001b[0m\u001b[0maxis\u001b[0m\u001b[1;33m)\u001b[0m\u001b[1;33m\u001b[0m\u001b[1;33m\u001b[0m\u001b[0m\n\u001b[0m\u001b[0;32m   1074\u001b[0m \u001b[1;33m\u001b[0m\u001b[0m\n\u001b[0;32m   1075\u001b[0m     \u001b[1;32mdef\u001b[0m \u001b[0m_handle_lowerdim_multi_index_axis0\u001b[0m\u001b[1;33m(\u001b[0m\u001b[0mself\u001b[0m\u001b[1;33m,\u001b[0m \u001b[0mtup\u001b[0m\u001b[1;33m:\u001b[0m \u001b[0mTuple\u001b[0m\u001b[1;33m)\u001b[0m\u001b[1;33m:\u001b[0m\u001b[1;33m\u001b[0m\u001b[1;33m\u001b[0m\u001b[0m\n",
      "\u001b[1;32m~\\anaconda3\\lib\\site-packages\\pandas\\core\\generic.py\u001b[0m in \u001b[0;36mxs\u001b[1;34m(self, key, axis, level, drop_level)\u001b[0m\n\u001b[0;32m   3737\u001b[0m                 \u001b[1;32mraise\u001b[0m \u001b[0mTypeError\u001b[0m\u001b[1;33m(\u001b[0m\u001b[1;34mf\"Expected label or tuple of labels, got {key}\"\u001b[0m\u001b[1;33m)\u001b[0m \u001b[1;32mfrom\u001b[0m \u001b[0me\u001b[0m\u001b[1;33m\u001b[0m\u001b[1;33m\u001b[0m\u001b[0m\n\u001b[0;32m   3738\u001b[0m         \u001b[1;32melse\u001b[0m\u001b[1;33m:\u001b[0m\u001b[1;33m\u001b[0m\u001b[1;33m\u001b[0m\u001b[0m\n\u001b[1;32m-> 3739\u001b[1;33m             \u001b[0mloc\u001b[0m \u001b[1;33m=\u001b[0m \u001b[0mindex\u001b[0m\u001b[1;33m.\u001b[0m\u001b[0mget_loc\u001b[0m\u001b[1;33m(\u001b[0m\u001b[0mkey\u001b[0m\u001b[1;33m)\u001b[0m\u001b[1;33m\u001b[0m\u001b[1;33m\u001b[0m\u001b[0m\n\u001b[0m\u001b[0;32m   3740\u001b[0m \u001b[1;33m\u001b[0m\u001b[0m\n\u001b[0;32m   3741\u001b[0m             \u001b[1;32mif\u001b[0m \u001b[0misinstance\u001b[0m\u001b[1;33m(\u001b[0m\u001b[0mloc\u001b[0m\u001b[1;33m,\u001b[0m \u001b[0mnp\u001b[0m\u001b[1;33m.\u001b[0m\u001b[0mndarray\u001b[0m\u001b[1;33m)\u001b[0m\u001b[1;33m:\u001b[0m\u001b[1;33m\u001b[0m\u001b[1;33m\u001b[0m\u001b[0m\n",
      "\u001b[1;32m~\\anaconda3\\lib\\site-packages\\pandas\\core\\indexes\\range.py\u001b[0m in \u001b[0;36mget_loc\u001b[1;34m(self, key, method, tolerance)\u001b[0m\n\u001b[0;32m    352\u001b[0m                 \u001b[1;32mexcept\u001b[0m \u001b[0mValueError\u001b[0m \u001b[1;32mas\u001b[0m \u001b[0merr\u001b[0m\u001b[1;33m:\u001b[0m\u001b[1;33m\u001b[0m\u001b[1;33m\u001b[0m\u001b[0m\n\u001b[0;32m    353\u001b[0m                     \u001b[1;32mraise\u001b[0m \u001b[0mKeyError\u001b[0m\u001b[1;33m(\u001b[0m\u001b[0mkey\u001b[0m\u001b[1;33m)\u001b[0m \u001b[1;32mfrom\u001b[0m \u001b[0merr\u001b[0m\u001b[1;33m\u001b[0m\u001b[1;33m\u001b[0m\u001b[0m\n\u001b[1;32m--> 354\u001b[1;33m             \u001b[1;32mraise\u001b[0m \u001b[0mKeyError\u001b[0m\u001b[1;33m(\u001b[0m\u001b[0mkey\u001b[0m\u001b[1;33m)\u001b[0m\u001b[1;33m\u001b[0m\u001b[1;33m\u001b[0m\u001b[0m\n\u001b[0m\u001b[0;32m    355\u001b[0m         \u001b[1;32mreturn\u001b[0m \u001b[0msuper\u001b[0m\u001b[1;33m(\u001b[0m\u001b[1;33m)\u001b[0m\u001b[1;33m.\u001b[0m\u001b[0mget_loc\u001b[0m\u001b[1;33m(\u001b[0m\u001b[0mkey\u001b[0m\u001b[1;33m,\u001b[0m \u001b[0mmethod\u001b[0m\u001b[1;33m=\u001b[0m\u001b[0mmethod\u001b[0m\u001b[1;33m,\u001b[0m \u001b[0mtolerance\u001b[0m\u001b[1;33m=\u001b[0m\u001b[0mtolerance\u001b[0m\u001b[1;33m)\u001b[0m\u001b[1;33m\u001b[0m\u001b[1;33m\u001b[0m\u001b[0m\n\u001b[0;32m    356\u001b[0m \u001b[1;33m\u001b[0m\u001b[0m\n",
      "\u001b[1;31mKeyError\u001b[0m: 'sorteados'"
     ]
    }
   ],
   "source": [
    "base_final = base.loc[sorteados]\n",
    "base_final"
   ]
  },
  {
   "cell_type": "markdown",
   "id": "66b56090",
   "metadata": {},
   "source": [
    "### 1.3. Amostragem estratificada\n",
    "\n",
    "- Quando as populações estão divididas em estratos (ex.: raça, religião, etc)."
   ]
  },
  {
   "cell_type": "code",
   "execution_count": 23,
   "id": "b7760605",
   "metadata": {},
   "outputs": [],
   "source": [
    "# Importando bibliotecas\n",
    "# Pandas para carregar arquivos .csv\n",
    "# train_test_split para divisão da base de dados (separar amostras)\n",
    "import pandas as pd\n",
    "from sklearn.model_selection import train_test_split"
   ]
  },
  {
   "cell_type": "code",
   "execution_count": 29,
   "id": "fa646fb5",
   "metadata": {},
   "outputs": [
    {
     "data": {
      "text/plain": [
       "Iris-versicolor    50\n",
       "Iris-setosa        50\n",
       "Iris-virginica     50\n",
       "Name: class, dtype: int64"
      ]
     },
     "execution_count": 29,
     "metadata": {},
     "output_type": "execute_result"
    }
   ],
   "source": [
    "# Carregando a base de dados e contando quantos resgistros existem por classe\n",
    "iris = pd.read_csv('Dados/iris.csv')\n",
    "iris['class'].value_counts()"
   ]
  },
  {
   "cell_type": "code",
   "execution_count": 33,
   "id": "632b6200",
   "metadata": {},
   "outputs": [
    {
     "data": {
      "text/plain": [
       "Iris-versicolor    25\n",
       "Iris-setosa        25\n",
       "Iris-virginica     25\n",
       "Name: class, dtype: int64"
      ]
     },
     "execution_count": 33,
     "metadata": {},
     "output_type": "execute_result"
    }
   ],
   "source": [
    "# iris.iloc[:, 0:4]: buscamos somente os atributos previsores, ou seja, os dados sobre pétala ou sétala da planta\n",
    "# iris.iloc[:, 4]: buscamos somente a classe, que é a espécie da planta (setosa, virginica ou versicolor)\n",
    "# test_size: selecionamos 50% da base de dados, que serão copiados para as variáveis X e Y. Essa função retorna 4 valores.\n",
    "# Porém vamos usar somente os 50% da base de dados e por isso colocamos \"_\" para outros valores.\n",
    "# stratify: para retornar a amostra baseada em classe\n",
    "X, _ , y, _ = train_test_split(iris.iloc[:, 0:4], iris.iloc[:,4],\n",
    "                           test_size = 0.5, stratify = iris.iloc[:,4])\n",
    "y.value_counts()"
   ]
  },
  {
   "cell_type": "code",
   "execution_count": 34,
   "id": "6ca44e15",
   "metadata": {},
   "outputs": [
    {
     "data": {
      "text/html": [
       "<div>\n",
       "<style scoped>\n",
       "    .dataframe tbody tr th:only-of-type {\n",
       "        vertical-align: middle;\n",
       "    }\n",
       "\n",
       "    .dataframe tbody tr th {\n",
       "        vertical-align: top;\n",
       "    }\n",
       "\n",
       "    .dataframe thead th {\n",
       "        text-align: right;\n",
       "    }\n",
       "</style>\n",
       "<table border=\"1\" class=\"dataframe\">\n",
       "  <thead>\n",
       "    <tr style=\"text-align: right;\">\n",
       "      <th></th>\n",
       "      <th>Unnamed: 0</th>\n",
       "      <th>education</th>\n",
       "      <th>age</th>\n",
       "      <th>parity</th>\n",
       "      <th>induced</th>\n",
       "      <th>case</th>\n",
       "      <th>spontaneous</th>\n",
       "      <th>stratum</th>\n",
       "      <th>pooled.stratum</th>\n",
       "    </tr>\n",
       "  </thead>\n",
       "  <tbody>\n",
       "    <tr>\n",
       "      <th>0</th>\n",
       "      <td>1</td>\n",
       "      <td>0-5yrs</td>\n",
       "      <td>26</td>\n",
       "      <td>6</td>\n",
       "      <td>1</td>\n",
       "      <td>1</td>\n",
       "      <td>2</td>\n",
       "      <td>1</td>\n",
       "      <td>3</td>\n",
       "    </tr>\n",
       "    <tr>\n",
       "      <th>1</th>\n",
       "      <td>2</td>\n",
       "      <td>0-5yrs</td>\n",
       "      <td>42</td>\n",
       "      <td>1</td>\n",
       "      <td>1</td>\n",
       "      <td>1</td>\n",
       "      <td>0</td>\n",
       "      <td>2</td>\n",
       "      <td>1</td>\n",
       "    </tr>\n",
       "    <tr>\n",
       "      <th>2</th>\n",
       "      <td>3</td>\n",
       "      <td>0-5yrs</td>\n",
       "      <td>39</td>\n",
       "      <td>6</td>\n",
       "      <td>2</td>\n",
       "      <td>1</td>\n",
       "      <td>0</td>\n",
       "      <td>3</td>\n",
       "      <td>4</td>\n",
       "    </tr>\n",
       "    <tr>\n",
       "      <th>3</th>\n",
       "      <td>4</td>\n",
       "      <td>0-5yrs</td>\n",
       "      <td>34</td>\n",
       "      <td>4</td>\n",
       "      <td>2</td>\n",
       "      <td>1</td>\n",
       "      <td>0</td>\n",
       "      <td>4</td>\n",
       "      <td>2</td>\n",
       "    </tr>\n",
       "    <tr>\n",
       "      <th>4</th>\n",
       "      <td>5</td>\n",
       "      <td>6-11yrs</td>\n",
       "      <td>35</td>\n",
       "      <td>3</td>\n",
       "      <td>1</td>\n",
       "      <td>1</td>\n",
       "      <td>1</td>\n",
       "      <td>5</td>\n",
       "      <td>32</td>\n",
       "    </tr>\n",
       "    <tr>\n",
       "      <th>...</th>\n",
       "      <td>...</td>\n",
       "      <td>...</td>\n",
       "      <td>...</td>\n",
       "      <td>...</td>\n",
       "      <td>...</td>\n",
       "      <td>...</td>\n",
       "      <td>...</td>\n",
       "      <td>...</td>\n",
       "      <td>...</td>\n",
       "    </tr>\n",
       "    <tr>\n",
       "      <th>243</th>\n",
       "      <td>244</td>\n",
       "      <td>12+ yrs</td>\n",
       "      <td>31</td>\n",
       "      <td>1</td>\n",
       "      <td>0</td>\n",
       "      <td>0</td>\n",
       "      <td>1</td>\n",
       "      <td>79</td>\n",
       "      <td>45</td>\n",
       "    </tr>\n",
       "    <tr>\n",
       "      <th>244</th>\n",
       "      <td>245</td>\n",
       "      <td>12+ yrs</td>\n",
       "      <td>34</td>\n",
       "      <td>1</td>\n",
       "      <td>0</td>\n",
       "      <td>0</td>\n",
       "      <td>0</td>\n",
       "      <td>80</td>\n",
       "      <td>47</td>\n",
       "    </tr>\n",
       "    <tr>\n",
       "      <th>245</th>\n",
       "      <td>246</td>\n",
       "      <td>12+ yrs</td>\n",
       "      <td>35</td>\n",
       "      <td>2</td>\n",
       "      <td>2</td>\n",
       "      <td>0</td>\n",
       "      <td>0</td>\n",
       "      <td>81</td>\n",
       "      <td>54</td>\n",
       "    </tr>\n",
       "    <tr>\n",
       "      <th>246</th>\n",
       "      <td>247</td>\n",
       "      <td>12+ yrs</td>\n",
       "      <td>29</td>\n",
       "      <td>1</td>\n",
       "      <td>0</td>\n",
       "      <td>0</td>\n",
       "      <td>1</td>\n",
       "      <td>82</td>\n",
       "      <td>43</td>\n",
       "    </tr>\n",
       "    <tr>\n",
       "      <th>247</th>\n",
       "      <td>248</td>\n",
       "      <td>12+ yrs</td>\n",
       "      <td>23</td>\n",
       "      <td>1</td>\n",
       "      <td>0</td>\n",
       "      <td>0</td>\n",
       "      <td>1</td>\n",
       "      <td>83</td>\n",
       "      <td>40</td>\n",
       "    </tr>\n",
       "  </tbody>\n",
       "</table>\n",
       "<p>248 rows × 9 columns</p>\n",
       "</div>"
      ],
      "text/plain": [
       "     Unnamed: 0 education  age  parity  induced  case  spontaneous  stratum  \\\n",
       "0             1    0-5yrs   26       6        1     1            2        1   \n",
       "1             2    0-5yrs   42       1        1     1            0        2   \n",
       "2             3    0-5yrs   39       6        2     1            0        3   \n",
       "3             4    0-5yrs   34       4        2     1            0        4   \n",
       "4             5   6-11yrs   35       3        1     1            1        5   \n",
       "..          ...       ...  ...     ...      ...   ...          ...      ...   \n",
       "243         244   12+ yrs   31       1        0     0            1       79   \n",
       "244         245   12+ yrs   34       1        0     0            0       80   \n",
       "245         246   12+ yrs   35       2        2     0            0       81   \n",
       "246         247   12+ yrs   29       1        0     0            1       82   \n",
       "247         248   12+ yrs   23       1        0     0            1       83   \n",
       "\n",
       "     pooled.stratum  \n",
       "0                 3  \n",
       "1                 1  \n",
       "2                 4  \n",
       "3                 2  \n",
       "4                32  \n",
       "..              ...  \n",
       "243              45  \n",
       "244              47  \n",
       "245              54  \n",
       "246              43  \n",
       "247              40  \n",
       "\n",
       "[248 rows x 9 columns]"
      ]
     },
     "execution_count": 34,
     "metadata": {},
     "output_type": "execute_result"
    }
   ],
   "source": [
    "# Carregando outra base de dados e contando quantos registros por classe\n",
    "infert = pd.read_csv('Dados/infert.csv')\n",
    "infert"
   ]
  },
  {
   "cell_type": "code",
   "execution_count": 35,
   "id": "eeaf4685",
   "metadata": {},
   "outputs": [
    {
     "data": {
      "text/plain": [
       "6-11yrs    120\n",
       "12+ yrs    116\n",
       "0-5yrs      12\n",
       "Name: education, dtype: int64"
      ]
     },
     "execution_count": 35,
     "metadata": {},
     "output_type": "execute_result"
    }
   ],
   "source": [
    "infert['education'].value_counts()"
   ]
  },
  {
   "cell_type": "code",
   "execution_count": 39,
   "id": "ee9e31fc",
   "metadata": {},
   "outputs": [
    {
     "data": {
      "text/plain": [
       "6-11yrs    48\n",
       "12+ yrs    46\n",
       "0-5yrs      5\n",
       "Name: education, dtype: int64"
      ]
     },
     "execution_count": 39,
     "metadata": {},
     "output_type": "execute_result"
    }
   ],
   "source": [
    "# Criando uma amostra com somente 40% dos registros (por isso é definido 0.6, pois é gerado o inverso)\n",
    "X1, _ , y1, _ = train_test_split(infert.iloc[:, 2:9], infert.iloc[:, 1],\n",
    "                           test_size = 0.6, stratify = infert.iloc[:, 1])\n",
    "y1.value_counts()"
   ]
  },
  {
   "cell_type": "markdown",
   "id": "969e525a",
   "metadata": {},
   "source": [
    "## 2. Medidas de centralidade e variabilidade\n",
    "\n",
    "#### Medidas de centralidade: \n",
    "\n",
    "- Média: É encontrada somando-se todos os números do conjunto de dados e então dividindo o resultado pelo número de valores do conjunto.\n",
    "- Mediana: É o valor do meio quando o conjunto de dados está ordenado do menor para o maior.\n",
    "  * Se a quantidade for par, a mediana será a média dos valores nas posições n/2 e n/2+1.\n",
    "  * Se a quantidade for ímpar, a meidana será o valor na posição (n+1)/2.\n",
    "- Moda: É o número que aparece mais vezes em um conjunto de dados.\n",
    "\n",
    "#### Medidas de variabilidade:\n",
    "\n",
    "- Variância: Uma medida de dispersão que mostra quão distantes os valores estão da média. \n",
    "- Desvio Padrão: É simplesmente o resultado positivo da raiz quadrada da variância. Na prática, o desvio padrão indica qual é o “erro” se quiséssemos substituir um dos valores coletados pelo valor da média.\n",
    "  * Um desvio padrão grande significa que os valores amostrais estão bem distribuídos em torno da média, enquanto que um desvio padrão pequeno indica que eles estão condensados próximos da média. Em poucas palavras, quanto menor o desvio padrão, mais homogênea é a amostra.\n",
    "- Amplitutude: A amplitude de um conjunto, em Estatística, é a diferença entre o maior elemento desse conjunto e o menor.\n",
    "- Não Centrais - Quartis: Quartis são valores que dividem uma (parte de uma) tabela de dados em quatro grupos contendo aproximadamente um igual número de observações. \n",
    "  * O total de 100% é dividido em quatro partes iguais: 25%, 50%, 75% 100%. \n",
    "  * O primeiro quartil (ou quartil inferior), Q1, é definido como o valor que possui um valor-f igual a 0,25."
   ]
  },
  {
   "cell_type": "code",
   "execution_count": 40,
   "id": "d84643ea",
   "metadata": {},
   "outputs": [],
   "source": [
    "# Importando as bibliotecas\n",
    "import numpy as np\n",
    "from scipy import stats"
   ]
  },
  {
   "cell_type": "code",
   "execution_count": 41,
   "id": "c558b9c0",
   "metadata": {},
   "outputs": [
    {
     "data": {
      "text/plain": [
       "200000.0"
      ]
     },
     "execution_count": 41,
     "metadata": {},
     "output_type": "execute_result"
    }
   ],
   "source": [
    "# Criando uma variável com dados dos jogadores, visualização da mediana e média\n",
    "jogadores = [40000, 18000, 12000, 250000, 140000, 300000, 40000, 800000]\n",
    "np.mean(jogadores)"
   ]
  },
  {
   "cell_type": "code",
   "execution_count": 42,
   "id": "dd2ee4ca",
   "metadata": {},
   "outputs": [
    {
     "data": {
      "text/plain": [
       "90000.0"
      ]
     },
     "execution_count": 42,
     "metadata": {},
     "output_type": "execute_result"
    }
   ],
   "source": [
    "np.median(jogadores)"
   ]
  },
  {
   "cell_type": "code",
   "execution_count": 43,
   "id": "a3abf6e8",
   "metadata": {},
   "outputs": [
    {
     "data": {
      "text/plain": [
       "array([ 12000.,  34500.,  90000., 262500., 800000.])"
      ]
     },
     "execution_count": 43,
     "metadata": {},
     "output_type": "execute_result"
    }
   ],
   "source": [
    "# Criando uma variável para a geração de quartis\n",
    "quartis = np.quantile(jogadores, [0, 0.25, 0.5, 0.75, 1])\n",
    "quartis"
   ]
  },
  {
   "cell_type": "code",
   "execution_count": 44,
   "id": "a9b278e3",
   "metadata": {},
   "outputs": [
    {
     "data": {
      "text/plain": [
       "266127.78885340027"
      ]
     },
     "execution_count": 44,
     "metadata": {},
     "output_type": "execute_result"
    }
   ],
   "source": [
    "# Visualização do devio padrão\n",
    "np.std(jogadores, ddof = 1)"
   ]
  },
  {
   "cell_type": "code",
   "execution_count": 45,
   "id": "0e9ba0bc",
   "metadata": {},
   "outputs": [
    {
     "data": {
      "text/plain": [
       "DescribeResult(nobs=8, minmax=(12000, 800000), mean=200000.0, variance=70824000000.0, skewness=1.588474619426339, kurtosis=1.3412196511185472)"
      ]
     },
     "execution_count": 45,
     "metadata": {},
     "output_type": "execute_result"
    }
   ],
   "source": [
    "# Visualização de estatísticas mais detalhadas usando a biblioteca scipy\n",
    "stats.describe(jogadores)"
   ]
  },
  {
   "cell_type": "markdown",
   "id": "5de93610",
   "metadata": {},
   "source": [
    "## 3. Distribuições\n",
    "\n",
    "- Usado principalmente na teoria da probabilidade.\n",
    "- Representa o comportamento de dados aleatórios.\n",
    "\n",
    "### 3.1. Distribuição normal:\n",
    "\n",
    "- Também é chamada distribuição gaussiana, distribuição de Gauss ou distribuição de Laplace–Gauss\n",
    "- É uma distribuição de probabilidade contínua e simétrica em ambos os lados da média, de modo que o lado direito é uma imagem espelhada do esquerdo. É a mais familiar das distribuições de probabilidade e também uma das mais importantes em estatística.\n",
    "- A maioria dos valores de dados nesta distribuição tendem a se agrupar em torno da média. As caudas são assintóticas, o que significa que, teoricamente, se estende de – infinito a + infinito, sem tocar o eixo horizontal.\n",
    "- Para uma distribuição perfeitamente normal, a média, mediana e moda terão o mesmo valor\n",
    "- Muitos testes estatísticos dependem dessa distribuição, como os testes paramétricos. Para usá-los, nossos dados devem apresentar distribuição normal. Caso isso não aconteça, deveremos corrigir essa falta de normalidade ou usar testes não paramétricos.\n",
    "- Dois principais testes de normalidade: Shapiro–Wilk e Kolmogorov–Smirnov. \n",
    "  * Estes testes avaliam se a distribuição dos nossos dados, se desviam de uma distribuição normal modelo.\n",
    "  * Se o teste é não-significativo (p > 0,05), nos informa que os dados da amostra não diferem significativamente de uma distribuição normal modelo (isto é, eles podem ser normais). Por outro lado, se o teste é significativo (p < 0,05), a distribuição em questão é significativamente diferente de uma distribuição normal (isto é, ela é não-normal).\n",
    "- Nem sempre os dados precisam ser rigorosamente normais. Dados aproximadamente normais são suficientes para a maioria dos casos."
   ]
  },
  {
   "cell_type": "code",
   "execution_count": 46,
   "id": "fd7e055b",
   "metadata": {},
   "outputs": [],
   "source": [
    "# Importação da função norm\n",
    "from scipy.stats import norm"
   ]
  },
  {
   "cell_type": "code",
   "execution_count": 47,
   "id": "2ff55f41",
   "metadata": {},
   "outputs": [
    {
     "data": {
      "text/plain": [
       "0.15865525393145707"
      ]
     },
     "execution_count": 47,
     "metadata": {},
     "output_type": "execute_result"
    }
   ],
   "source": [
    "# Conjunto de objetos em uma cesta, a média é 8 e o desvio padrão é 2\n",
    "# Qual a probabilidade de tirar um objeto que peso é menor que 6 quilos?\n",
    "norm.cdf(6,8,2)"
   ]
  },
  {
   "cell_type": "code",
   "execution_count": 48,
   "id": "7828b810",
   "metadata": {},
   "outputs": [
    {
     "data": {
      "text/plain": [
       "0.8413447460685429"
      ]
     },
     "execution_count": 48,
     "metadata": {},
     "output_type": "execute_result"
    }
   ],
   "source": [
    "# Qual a probabilidade de tirar um objeto que o peso é maior que 6 quilos?\n",
    "1 - norm.cdf(6,8,2)"
   ]
  },
  {
   "cell_type": "code",
   "execution_count": 49,
   "id": "4968baad",
   "metadata": {},
   "outputs": [
    {
     "data": {
      "text/plain": [
       "0.31731050786291415"
      ]
     },
     "execution_count": 49,
     "metadata": {},
     "output_type": "execute_result"
    }
   ],
   "source": [
    "# Qual a probabilidade de tirar um objeto que o peso é maior que 6 e menor que 10 quilos?\n",
    "norm.cdf(6,8,2) + norm.sf(10,8,2)"
   ]
  },
  {
   "cell_type": "code",
   "execution_count": 50,
   "id": "95d49110",
   "metadata": {},
   "outputs": [
    {
     "data": {
      "text/plain": [
       "0.3413447460685429"
      ]
     },
     "execution_count": 50,
     "metadata": {},
     "output_type": "execute_result"
    }
   ],
   "source": [
    "# Qual a probabilidade de tirar um onjeto que o peso é menor que 10 e maior que 8 quilos?\n",
    "norm.cdf(10,8,2) - norm.cdf(8,8,2)"
   ]
  },
  {
   "cell_type": "markdown",
   "id": "72aea249",
   "metadata": {},
   "source": [
    "## 4. Teste de normalidade"
   ]
  },
  {
   "cell_type": "code",
   "execution_count": 51,
   "id": "353ded29",
   "metadata": {},
   "outputs": [],
   "source": [
    "# Importando as bibliotecas\n",
    "from scipy import stats\n",
    "from scipy.stats import norm, skewnorm\n",
    "import matplotlib.pyplot as plt"
   ]
  },
  {
   "cell_type": "code",
   "execution_count": 52,
   "id": "41671182",
   "metadata": {},
   "outputs": [
    {
     "data": {
      "text/plain": [
       "array([ 9.09158302e-01,  9.11998855e-01, -1.00799705e+00,  1.81920615e+00,\n",
       "        2.79436003e-02,  4.17363809e-01, -2.61423171e-02,  1.16848501e+00,\n",
       "       -7.94339497e-01,  8.59856566e-02, -3.22464270e-02, -4.24820153e-01,\n",
       "        1.06275718e+00, -1.36853893e+00,  2.00320233e-01,  6.59010988e-01,\n",
       "       -1.26128753e+00,  1.18079096e+00, -1.38155020e+00,  9.55398885e-01,\n",
       "        1.54014581e-01,  3.75922644e-01, -8.25727480e-02,  5.68865118e-01,\n",
       "       -5.48271132e-01, -8.28424050e-01,  1.72826863e-01,  1.28692540e+00,\n",
       "       -6.66553102e-01,  4.80703764e-01,  1.12817450e+00, -1.31568397e-01,\n",
       "        1.27411568e-01,  5.82566672e-01, -3.78681365e-01, -5.62639372e-01,\n",
       "        8.34821815e-01,  5.81767443e-01,  2.68863148e-01, -8.97522789e-01,\n",
       "       -5.18048697e-01, -5.35602673e-02,  1.61662049e+00,  3.17699226e-01,\n",
       "       -1.19283773e+00,  8.37954155e-01,  1.52763507e-01, -1.90919815e+00,\n",
       "       -1.13366093e+00, -9.23280878e-01, -8.77348383e-02,  5.14181633e-01,\n",
       "        1.97209217e+00,  6.56752861e-01,  1.10087288e+00,  9.00577714e-01,\n",
       "       -1.70956405e+00, -1.10764994e+00,  8.63594794e-01, -2.34484010e+00,\n",
       "       -1.23928752e+00,  1.08868769e+00,  1.42865348e+00, -4.58556126e-01,\n",
       "        1.04006422e+00, -8.25535035e-01,  5.35497024e-01,  7.19596072e-01,\n",
       "       -1.59358969e+00,  4.50140446e-01, -2.72432172e-01, -1.83884303e+00,\n",
       "       -1.44432946e+00,  1.98492032e-01,  1.44601490e+00, -1.33572507e+00,\n",
       "       -9.01051926e-01,  1.27098398e+00,  1.78676267e-03, -1.16323237e+00,\n",
       "       -1.67320156e-02,  6.02923414e-01,  4.02217958e-01, -4.29432428e-01,\n",
       "        1.53426452e-01, -2.47211795e-01,  9.03353849e-01,  5.91685687e-01,\n",
       "        1.48925574e-01,  5.62234006e-02, -1.11845626e+00, -1.39274298e+00,\n",
       "       -7.63599073e-01, -2.41644857e-01, -1.48767748e+00,  1.64116015e+00,\n",
       "       -1.76763229e+00, -3.34675026e-01,  1.25736712e-01,  1.48030461e+00])"
      ]
     },
     "execution_count": 52,
     "metadata": {},
     "output_type": "execute_result"
    }
   ],
   "source": [
    "# Criando uma variável com dados em uma distribuição normal com a função rvs (100 elementos)\n",
    "dados = norm.rvs(size = 100)\n",
    "dados"
   ]
  },
  {
   "cell_type": "code",
   "execution_count": 54,
   "id": "4fc4c8cd",
   "metadata": {},
   "outputs": [
    {
     "data": {
      "text/plain": [
       "Text(0.5, 1.0, 'Dados')"
      ]
     },
     "execution_count": 54,
     "metadata": {},
     "output_type": "execute_result"
    },
    {
     "data": {
      "image/png": "[encoded data removed]",
      "text/plain": [
       "<Figure size 432x288 with 1 Axes>"
      ]
     },
     "metadata": {
      "needs_background": "light"
     },
     "output_type": "display_data"
    }
   ],
   "source": [
    "# Histograma\n",
    "plt.hist(dados, bins=20)\n",
    "plt.title('Dados')"
   ]
  },
  {
   "cell_type": "code",
   "execution_count": 55,
   "id": "25bdc02c",
   "metadata": {},
   "outputs": [
    {
     "data": {
      "image/png": "[encoded data removed]",
      "text/plain": [
       "<Figure size 432x288 with 1 Axes>"
      ]
     },
     "metadata": {
      "needs_background": "light"
     },
     "output_type": "display_data"
    }
   ],
   "source": [
    "# Gerando um gráfico para verificar se a distribuição é normal\n",
    "fig, ax = plt.subplots()\n",
    "stats.probplot(dados, fit=True, plot=ax)\n",
    "plt.show()"
   ]
  },
  {
   "cell_type": "code",
   "execution_count": 56,
   "id": "c29d5ca9",
   "metadata": {},
   "outputs": [
    {
     "data": {
      "text/plain": [
       "ShapiroResult(statistic=0.9823552966117859, pvalue=0.20195189118385315)"
      ]
     },
     "execution_count": 56,
     "metadata": {},
     "output_type": "execute_result"
    }
   ],
   "source": [
    "# Execução do teste de Shapiro\n",
    "# O 2º argumento é o valor de p, não há como rejeitar a hipótese nula\n",
    "stats.shapiro(dados)"
   ]
  },
  {
   "cell_type": "code",
   "execution_count": 57,
   "id": "26266ac4",
   "metadata": {},
   "outputs": [],
   "source": [
    "# Dados não normais\n",
    "dados2 = skewnorm.rvs(4, size=1000)"
   ]
  },
  {
   "cell_type": "code",
   "execution_count": 58,
   "id": "51d08fea",
   "metadata": {},
   "outputs": [
    {
     "data": {
      "text/plain": [
       "Text(0.5, 1.0, 'Dados')"
      ]
     },
     "execution_count": 58,
     "metadata": {},
     "output_type": "execute_result"
    },
    {
     "data": {
      "image/png": "[encoded data removed]",
      "text/plain": [
       "<Figure size 432x288 with 1 Axes>"
      ]
     },
     "metadata": {
      "needs_background": "light"
     },
     "output_type": "display_data"
    }
   ],
   "source": [
    "# Histograma\n",
    "plt.hist(dados2, bins=20)\n",
    "plt.title('Dados')"
   ]
  },
  {
   "cell_type": "code",
   "execution_count": 60,
   "id": "68689492",
   "metadata": {},
   "outputs": [
    {
     "data": {
      "image/png": "[encoded data removed]",
      "text/plain": [
       "<Figure size 432x288 with 1 Axes>"
      ]
     },
     "metadata": {
      "needs_background": "light"
     },
     "output_type": "display_data"
    }
   ],
   "source": [
    "# Geração de gráfico para verificar se a distribuição é normal\n",
    "fig, ax = plt.subplots()\n",
    "stats.probplot(dados2, fit=True, plot=ax)\n",
    "plt.show()"
   ]
  },
  {
   "cell_type": "code",
   "execution_count": 61,
   "id": "b4818238",
   "metadata": {},
   "outputs": [
    {
     "data": {
      "text/plain": [
       "ShapiroResult(statistic=0.9681847095489502, pvalue=5.5632297271505926e-14)"
      ]
     },
     "execution_count": 61,
     "metadata": {},
     "output_type": "execute_result"
    }
   ],
   "source": [
    "stats.shapiro(dados2)"
   ]
  },
  {
   "cell_type": "markdown",
   "id": "de163ae0",
   "metadata": {},
   "source": [
    "## 5. Teste t de student\n",
    "\n",
    "### 5.1. Distribuição t de student:\n",
    "\n",
    "- Utilizada quando a amostra é pequena (menor que 30)\n",
    "- E não se conhece o desvio padrão da população\n",
    "- Custo: maior variabilidade (por exemplo, em um teste de hipótese)\n",
    "- Tendência maior de encontrar valores nas caudas (caudas maiores)\n",
    "- Se n >= 30, se assemelha a uma distribuição normal\n",
    "- Grau de liberdade corresponde ao tamanho da amostra\n",
    "- O t de student pode ser usado para:\n",
    "  * Calcular probabilidades\n",
    "  * Calcular intervalos de confiança\n",
    "  * Executar testes de hipótese\n",
    "- Etapas:\n",
    "  * Calcular o valor t\n",
    "  * Consultar a tabela de distribuição t\n",
    "  \n",
    "### 5.2. Teste t de student:\n",
    "\n",
    "- Teste de hipótese\n",
    "- Útil para comparar duas populações\n",
    "- Compara duas médias\n",
    "- Pré-requisitos:\n",
    "  * Duas populações são independentes\n",
    "  * Variável dependente normalmente distribuída\n",
    "  * Variância entre as duas variáveis é aproximada\n",
    "- H0: Não há diferença significativa"
   ]
  },
  {
   "cell_type": "code",
   "execution_count": 2,
   "id": "2b5ee905",
   "metadata": {},
   "outputs": [],
   "source": [
    "# Importação da função para fazer o teste\n",
    "from scipy.stats import t"
   ]
  },
  {
   "cell_type": "code",
   "execution_count": 3,
   "id": "cf87b420",
   "metadata": {},
   "outputs": [
    {
     "data": {
      "text/plain": [
       "0.9139983540240443"
      ]
     },
     "execution_count": 3,
     "metadata": {},
     "output_type": "execute_result"
    }
   ],
   "source": [
    "# Considerando que média de salário dos cientistas de dados é R$75,00 por hora, o desvio padrão é R$10,00, e a amostra é de 9 funcionários.\n",
    "# Qual a probabilidade de selecionar um cientista de dados e o salário ser menor que R$80,00 por hora?\n",
    "t.cdf(1.5, 8)"
   ]
  },
  {
   "cell_type": "code",
   "execution_count": 4,
   "id": "48e37de7",
   "metadata": {},
   "outputs": [
    {
     "data": {
      "text/plain": [
       "0.08600164597595565"
      ]
     },
     "execution_count": 4,
     "metadata": {},
     "output_type": "execute_result"
    }
   ],
   "source": [
    "# Qual a probabilidade do salário ser maior que R$80,00?\n",
    "t.sf(1.5, 8)"
   ]
  },
  {
   "cell_type": "code",
   "execution_count": 5,
   "id": "ca97c28e",
   "metadata": {},
   "outputs": [
    {
     "data": {
      "text/plain": [
       "0.9999999999999999"
      ]
     },
     "execution_count": 5,
     "metadata": {},
     "output_type": "execute_result"
    }
   ],
   "source": [
    "# Somatório da execução dos dois códigos acima (lado esquerdo + lado direito)\n",
    "t.cdf(1.5, 8) + t.sf(1.5, 8)"
   ]
  },
  {
   "cell_type": "markdown",
   "id": "9ca0ed89",
   "metadata": {},
   "source": [
    "## 6. Distribuição de Poisson\n",
    "\n",
    "- Mede a probabilidade de ocorrência de eventos em intervalo de tempo, em vez de um certo número de experimentos.\n",
    "- Os eventos a cada intervalo devem ser independentes.\n",
    "- Existem tabelas de probabilidade.\n",
    "  * P(X=x)\n",
    "  * P(X<x)\n",
    "  * P(X>x)\n",
    "  * Sendo x o número de eventos que ocorre por intervalo.\n",
    "- Exemplo:\n",
    "  * O número de acidentes de carros que ocorrem por dia é de 2 acidentes. Qual a probabilidade de ocorrerem 3 acidentes em um determinado dia?"
   ]
  },
  {
   "cell_type": "code",
   "execution_count": 6,
   "id": "8f75e593",
   "metadata": {},
   "outputs": [],
   "source": [
    "# Importação da função\n",
    "from scipy.stats import poisson"
   ]
  },
  {
   "cell_type": "code",
   "execution_count": 7,
   "id": "ce4eeac9",
   "metadata": {},
   "outputs": [
    {
     "data": {
      "text/plain": [
       "0.18044704431548356"
      ]
     },
     "execution_count": 7,
     "metadata": {},
     "output_type": "execute_result"
    }
   ],
   "source": [
    "# Qual a probabilidade de ocorrerem 3 acidentes no dia?\n",
    "poisson.pmf(3, 2)"
   ]
  },
  {
   "cell_type": "code",
   "execution_count": 8,
   "id": "a21e32b8",
   "metadata": {},
   "outputs": [
    {
     "data": {
      "text/plain": [
       "0.857123460498547"
      ]
     },
     "execution_count": 8,
     "metadata": {},
     "output_type": "execute_result"
    }
   ],
   "source": [
    "# Qual a probabilidade de ocorrerem 3 acidentes ou menos no dia?\n",
    "poisson.cdf(3, 2)"
   ]
  },
  {
   "cell_type": "code",
   "execution_count": 10,
   "id": "3a64f6fb",
   "metadata": {},
   "outputs": [
    {
     "data": {
      "text/plain": [
       "0.14287653950145296"
      ]
     },
     "execution_count": 10,
     "metadata": {},
     "output_type": "execute_result"
    }
   ],
   "source": [
    "# Qual a probabilidade de ocorrerem mais de 3 acidentes no dia?\n",
    "poisson.sf(3, 2)"
   ]
  },
  {
   "cell_type": "markdown",
   "id": "8479cce8",
   "metadata": {},
   "source": [
    "## 7. Distribuição Binomial\n",
    "\n",
    "- Distribuição de probabilidade discreta\n",
    "- Pré-requisitos:\n",
    "  * Número fixo de experimentos\n",
    "  * Cada experimento pode ter 2 resultados apenas: sucesso ou fracasso\n",
    "  * A probabilidade de sucesso deve ser a mesma em cada experimento\n",
    "  * Os experimentos são independentes\n",
    "- Exemplo:\n",
    "  * Se jogarmos uma moeda 5 vezes, qual a probabilidade de dar cara 3 vezes?"
   ]
  },
  {
   "cell_type": "code",
   "execution_count": 11,
   "id": "e6fcb0b8",
   "metadata": {},
   "outputs": [],
   "source": [
    "# Importação da função binom\n",
    "from scipy.stats import binom"
   ]
  },
  {
   "cell_type": "code",
   "execution_count": 13,
   "id": "6b17db46",
   "metadata": {},
   "outputs": [
    {
     "data": {
      "text/plain": [
       "0.3125"
      ]
     },
     "execution_count": 13,
     "metadata": {},
     "output_type": "execute_result"
    }
   ],
   "source": [
    "# Jogar uma moeda 5 vezes, qual a prbabilidade de dar cara 5 vezes?\n",
    "# Eventos, experimentos, probabilidades\n",
    "prob = binom.pmf(3, 5, 0.5)\n",
    "prob"
   ]
  },
  {
   "cell_type": "code",
   "execution_count": 14,
   "id": "94a4b3e0",
   "metadata": {},
   "outputs": [
    {
     "data": {
      "text/plain": [
       "1.0000000000000002"
      ]
     },
     "execution_count": 14,
     "metadata": {},
     "output_type": "execute_result"
    }
   ],
   "source": [
    "# Passar por 4 sinais de 4 tempos, qual a probabilidade de pegar sinal verde?\n",
    "# nenhuma 1, 2, 3 ou 4 vezes seguidas?\n",
    "binom.pmf(0, 4, 0.25) + binom.pmf(1, 4, 0.25) + binom.pmf(2, 4, 0.25) + binom.pmf(3, 4, 0.25) + binom.pmf(4, 4, 0.25)"
   ]
  },
  {
   "cell_type": "code",
   "execution_count": 15,
   "id": "82c246fe",
   "metadata": {},
   "outputs": [
    {
     "data": {
      "text/plain": [
       "0.0625"
      ]
     },
     "execution_count": 15,
     "metadata": {},
     "output_type": "execute_result"
    }
   ],
   "source": [
    "# E se forem sinais de dois tempos?\n",
    "binom.pmf(4, 4, 0.5)"
   ]
  },
  {
   "cell_type": "code",
   "execution_count": 16,
   "id": "c2c206f4",
   "metadata": {},
   "outputs": [
    {
     "data": {
      "text/plain": [
       "1.0"
      ]
     },
     "execution_count": 16,
     "metadata": {},
     "output_type": "execute_result"
    }
   ],
   "source": [
    "# Probabilidade acumulativa\n",
    "binom.cdf(4, 4, 0.25)"
   ]
  },
  {
   "cell_type": "code",
   "execution_count": 17,
   "id": "673b517a",
   "metadata": {},
   "outputs": [
    {
     "data": {
      "text/plain": [
       "0.011471271514892573"
      ]
     },
     "execution_count": 17,
     "metadata": {},
     "output_type": "execute_result"
    }
   ],
   "source": [
    "# Concurso com 12 questões qual a probabilidade de acertar 7 questões considerando que cada questão tem 4 alternativas?\n",
    "binom.pmf(7, 12, 0.25)"
   ]
  },
  {
   "cell_type": "code",
   "execution_count": 18,
   "id": "3dd1d2f3",
   "metadata": {},
   "outputs": [
    {
     "data": {
      "text/plain": [
       "5.960464477539072e-06"
      ]
     },
     "execution_count": 18,
     "metadata": {},
     "output_type": "execute_result"
    }
   ],
   "source": [
    "# Probabilidade de acertar as 12 questões\n",
    "binom.pmf(12, 12, 0.25) * 100"
   ]
  },
  {
   "cell_type": "markdown",
   "id": "fb64f9dd",
   "metadata": {},
   "source": [
    "## 8. Teste Qui-Quadrado"
   ]
  },
  {
   "cell_type": "code",
   "execution_count": 20,
   "id": "774b030b",
   "metadata": {},
   "outputs": [],
   "source": [
    "# Importação das bibliotecas\n",
    "import numpy as np\n",
    "from scipy.stats import chi2_contingency"
   ]
  },
  {
   "cell_type": "code",
   "execution_count": 21,
   "id": "4be7a6e7",
   "metadata": {},
   "outputs": [
    {
     "data": {
      "text/plain": [
       "array([[ 9,  6],\n",
       "       [43, 32]])"
      ]
     },
     "execution_count": 21,
     "metadata": {},
     "output_type": "execute_result"
    }
   ],
   "source": [
    "# Criação da matriz com os dados e execução do teste\n",
    "novela = np.array([[9, 6], [43, 32]])\n",
    "novela"
   ]
  },
  {
   "cell_type": "code",
   "execution_count": 23,
   "id": "2dba16e7",
   "metadata": {},
   "outputs": [
    {
     "data": {
      "text/plain": [
       "(0.009109311740890677,\n",
       " 0.9239631896881993,\n",
       " 1,\n",
       " array([[ 8.66666667,  6.33333333],\n",
       "        [43.33333333, 31.66666667]]))"
      ]
     },
     "execution_count": 23,
     "metadata": {},
     "output_type": "execute_result"
    }
   ],
   "source": [
    "# Segundo valor é o p value\n",
    "# Quando o valor de p é maior que 0,05 não há evidência de diferenças significativa (hipótese nula): não há diferenças significativas\n",
    "chi2_contingency(novela)"
   ]
  },
  {
   "cell_type": "code",
   "execution_count": 24,
   "id": "e13f7e59",
   "metadata": {},
   "outputs": [
    {
     "data": {
      "text/plain": [
       "array([[22,  3],\n",
       "       [43, 32]])"
      ]
     },
     "execution_count": 24,
     "metadata": {},
     "output_type": "execute_result"
    }
   ],
   "source": [
    "novela2 = np.array([[22, 3], [43, 32]])\n",
    "novela2"
   ]
  },
  {
   "cell_type": "code",
   "execution_count": 25,
   "id": "1fb43b44",
   "metadata": {},
   "outputs": [
    {
     "data": {
      "text/plain": [
       "(6.461538461538461,\n",
       " 0.011023416388221425,\n",
       " 1,\n",
       " array([[16.25,  8.75],\n",
       "        [48.75, 26.25]]))"
      ]
     },
     "execution_count": 25,
     "metadata": {},
     "output_type": "execute_result"
    }
   ],
   "source": [
    "# Quando o valor de p é menor que 0,05 rejeitamos a hipótese nula em favor da hipótese alternativa de que há significância\n",
    "chi2_contingency(novela2)"
   ]
  },
  {
   "cell_type": "markdown",
   "id": "2a3b4d3a",
   "metadata": {},
   "source": [
    "## 9. Teste Anova\n",
    "\n",
    "- Análise de variação\n",
    "- Teste de hipótese\n",
    "- Usada para comparar 3 ou mais grupos\n",
    "- Uma variação quantitativa e uma ou mais variáveis categóricas\n",
    "- Em vez de comparações em pares de grupos, \"olha\" todo o conjunto\n",
    "- Busca a variação entre grupos comparando a variação dentro dos grupos\n",
    "- Teste de Tukey\n",
    "- Exemplo: Análise de variância de dois fatores\n",
    "  * H0: Não há diferença significativa no tempo de cura entre os diferentes tratamentos\n",
    "  * H1: Existe uma diferença significativa no tempo de cura entre os diferentes tratamentos\n",
    "  * Se valor p < alfa: não há diferença significativa entre os grupos (não há diferença significativa no tempo de cura entre os diferentes tratamentos)\n",
    "  * A Anova mostra se há ou não diferença significativa, mas não aonde\n",
    "  * Existe variação, e agora? Fazer o teste de Tuckey"
   ]
  },
  {
   "cell_type": "code",
   "execution_count": 26,
   "id": "b3ca49e5",
   "metadata": {},
   "outputs": [],
   "source": [
    "# Importando bibliotecas\n",
    "import pandas as pd\n",
    "from scipy import stats\n",
    "import statsmodels.api as sm\n",
    "from statsmodels.formula.api import ols\n",
    "from statsmodels.stats.multicomp import MultiComparison"
   ]
  },
  {
   "cell_type": "code",
   "execution_count": 32,
   "id": "a7703b76",
   "metadata": {},
   "outputs": [
    {
     "data": {
      "text/html": [
       "<div>\n",
       "<style scoped>\n",
       "    .dataframe tbody tr th:only-of-type {\n",
       "        vertical-align: middle;\n",
       "    }\n",
       "\n",
       "    .dataframe tbody tr th {\n",
       "        vertical-align: top;\n",
       "    }\n",
       "\n",
       "    .dataframe thead th {\n",
       "        text-align: right;\n",
       "    }\n",
       "</style>\n",
       "<table border=\"1\" class=\"dataframe\">\n",
       "  <thead>\n",
       "    <tr style=\"text-align: right;\">\n",
       "      <th></th>\n",
       "      <th>Sexo</th>\n",
       "      <th>Remedio</th>\n",
       "      <th>Horas</th>\n",
       "    </tr>\n",
       "  </thead>\n",
       "  <tbody>\n",
       "    <tr>\n",
       "      <th>0</th>\n",
       "      <td>F</td>\n",
       "      <td>A</td>\n",
       "      <td>5</td>\n",
       "    </tr>\n",
       "    <tr>\n",
       "      <th>1</th>\n",
       "      <td>F</td>\n",
       "      <td>A</td>\n",
       "      <td>10</td>\n",
       "    </tr>\n",
       "    <tr>\n",
       "      <th>2</th>\n",
       "      <td>F</td>\n",
       "      <td>A</td>\n",
       "      <td>7</td>\n",
       "    </tr>\n",
       "    <tr>\n",
       "      <th>3</th>\n",
       "      <td>F</td>\n",
       "      <td>A</td>\n",
       "      <td>7</td>\n",
       "    </tr>\n",
       "    <tr>\n",
       "      <th>4</th>\n",
       "      <td>M</td>\n",
       "      <td>A</td>\n",
       "      <td>7</td>\n",
       "    </tr>\n",
       "  </tbody>\n",
       "</table>\n",
       "</div>"
      ],
      "text/plain": [
       "  Sexo Remedio  Horas\n",
       "0    F       A      5\n",
       "1    F       A     10\n",
       "2    F       A      7\n",
       "3    F       A      7\n",
       "4    M       A      7"
      ]
     },
     "execution_count": 32,
     "metadata": {},
     "output_type": "execute_result"
    }
   ],
   "source": [
    "# Carregando a base de dados\n",
    "tratamento = pd.read_csv('Dados/anova.csv', sep = ';')\n",
    "tratamento.head()"
   ]
  },
  {
   "cell_type": "code",
   "execution_count": 34,
   "id": "8c69f7dc",
   "metadata": {},
   "outputs": [
    {
     "data": {
      "text/plain": [
       "<AxesSubplot:title={'center':'Horas'}, xlabel='[Remedio]'>"
      ]
     },
     "execution_count": 34,
     "metadata": {},
     "output_type": "execute_result"
    },
    {
     "data": {
      "image/png": "[encoded data removed]",
      "text/plain": [
       "<Figure size 432x288 with 1 Axes>"
      ]
     },
     "metadata": {
      "needs_background": "light"
     },
     "output_type": "display_data"
    }
   ],
   "source": [
    "# Boxplot agrupando dados pelo remédio\n",
    "tratamento.boxplot(by = 'Remedio', grid = False)"
   ]
  },
  {
   "cell_type": "code",
   "execution_count": 36,
   "id": "05e00bcf",
   "metadata": {},
   "outputs": [
    {
     "data": {
      "text/html": [
       "<div>\n",
       "<style scoped>\n",
       "    .dataframe tbody tr th:only-of-type {\n",
       "        vertical-align: middle;\n",
       "    }\n",
       "\n",
       "    .dataframe tbody tr th {\n",
       "        vertical-align: top;\n",
       "    }\n",
       "\n",
       "    .dataframe thead th {\n",
       "        text-align: right;\n",
       "    }\n",
       "</style>\n",
       "<table border=\"1\" class=\"dataframe\">\n",
       "  <thead>\n",
       "    <tr style=\"text-align: right;\">\n",
       "      <th></th>\n",
       "      <th>df</th>\n",
       "      <th>sum_sq</th>\n",
       "      <th>mean_sq</th>\n",
       "      <th>F</th>\n",
       "      <th>PR(&gt;F)</th>\n",
       "    </tr>\n",
       "  </thead>\n",
       "  <tbody>\n",
       "    <tr>\n",
       "      <th>Remedio</th>\n",
       "      <td>2.0</td>\n",
       "      <td>4.083333</td>\n",
       "      <td>2.041667</td>\n",
       "      <td>0.537618</td>\n",
       "      <td>0.591966</td>\n",
       "    </tr>\n",
       "    <tr>\n",
       "      <th>Residual</th>\n",
       "      <td>21.0</td>\n",
       "      <td>79.750000</td>\n",
       "      <td>3.797619</td>\n",
       "      <td>NaN</td>\n",
       "      <td>NaN</td>\n",
       "    </tr>\n",
       "  </tbody>\n",
       "</table>\n",
       "</div>"
      ],
      "text/plain": [
       "            df     sum_sq   mean_sq         F    PR(>F)\n",
       "Remedio    2.0   4.083333  2.041667  0.537618  0.591966\n",
       "Residual  21.0  79.750000  3.797619       NaN       NaN"
      ]
     },
     "execution_count": 36,
     "metadata": {},
     "output_type": "execute_result"
    }
   ],
   "source": [
    "# Criando um modelo de regressão linear e execução do teste\n",
    "modelo1 = ols('Horas ~ Remedio', data = tratamento).fit()\n",
    "resultados1 = sm.stats.anova_lm(modelo1)\n",
    "# Observar valor de p maior que 0,05 - PR(>F) - Hipótese nula de que não há diferença signifcativa.\n",
    "resultados1"
   ]
  },
  {
   "cell_type": "code",
   "execution_count": 37,
   "id": "565ee590",
   "metadata": {},
   "outputs": [
    {
     "data": {
      "text/html": [
       "<div>\n",
       "<style scoped>\n",
       "    .dataframe tbody tr th:only-of-type {\n",
       "        vertical-align: middle;\n",
       "    }\n",
       "\n",
       "    .dataframe tbody tr th {\n",
       "        vertical-align: top;\n",
       "    }\n",
       "\n",
       "    .dataframe thead th {\n",
       "        text-align: right;\n",
       "    }\n",
       "</style>\n",
       "<table border=\"1\" class=\"dataframe\">\n",
       "  <thead>\n",
       "    <tr style=\"text-align: right;\">\n",
       "      <th></th>\n",
       "      <th>df</th>\n",
       "      <th>sum_sq</th>\n",
       "      <th>mean_sq</th>\n",
       "      <th>F</th>\n",
       "      <th>PR(&gt;F)</th>\n",
       "    </tr>\n",
       "  </thead>\n",
       "  <tbody>\n",
       "    <tr>\n",
       "      <th>Remedio</th>\n",
       "      <td>2.0</td>\n",
       "      <td>4.083333</td>\n",
       "      <td>2.041667</td>\n",
       "      <td>0.532609</td>\n",
       "      <td>0.596042</td>\n",
       "    </tr>\n",
       "    <tr>\n",
       "      <th>Sexo</th>\n",
       "      <td>1.0</td>\n",
       "      <td>4.166667</td>\n",
       "      <td>4.166667</td>\n",
       "      <td>1.086957</td>\n",
       "      <td>0.310948</td>\n",
       "    </tr>\n",
       "    <tr>\n",
       "      <th>Remedio:Sexo</th>\n",
       "      <td>2.0</td>\n",
       "      <td>6.583333</td>\n",
       "      <td>3.291667</td>\n",
       "      <td>0.858696</td>\n",
       "      <td>0.440360</td>\n",
       "    </tr>\n",
       "    <tr>\n",
       "      <th>Residual</th>\n",
       "      <td>18.0</td>\n",
       "      <td>69.000000</td>\n",
       "      <td>3.833333</td>\n",
       "      <td>NaN</td>\n",
       "      <td>NaN</td>\n",
       "    </tr>\n",
       "  </tbody>\n",
       "</table>\n",
       "</div>"
      ],
      "text/plain": [
       "                df     sum_sq   mean_sq         F    PR(>F)\n",
       "Remedio        2.0   4.083333  2.041667  0.532609  0.596042\n",
       "Sexo           1.0   4.166667  4.166667  1.086957  0.310948\n",
       "Remedio:Sexo   2.0   6.583333  3.291667  0.858696  0.440360\n",
       "Residual      18.0  69.000000  3.833333       NaN       NaN"
      ]
     },
     "execution_count": 37,
     "metadata": {},
     "output_type": "execute_result"
    }
   ],
   "source": [
    "# Criando do segundo modelo de regressão linear e execução do teste\n",
    "modelo2 = ols('Horas ~ Remedio * Sexo', data = tratamento).fit()\n",
    "resultados2 = sm.stats.anova_lm(modelo2)\n",
    "# Nenhum valor de p apresenta diferença significativa\n",
    "resultados2"
   ]
  },
  {
   "cell_type": "code",
   "execution_count": 40,
   "id": "a8c499e8",
   "metadata": {},
   "outputs": [
    {
     "name": "stdout",
     "output_type": "stream",
     "text": [
      "Multiple Comparison of Means - Tukey HSD, FWER=0.05\n",
      "===================================================\n",
      "group1 group2 meandiff p-adj   lower  upper  reject\n",
      "---------------------------------------------------\n",
      "     A      B   -0.625 0.7861 -3.0803 1.8303  False\n",
      "     A      C    0.375    0.9 -2.0803 2.8303  False\n",
      "     B      C      1.0 0.5668 -1.4553 3.4553  False\n",
      "---------------------------------------------------\n"
     ]
    }
   ],
   "source": [
    "# Se houver diferença o teste de Tukey é executado\n",
    "# Execução do teste de Tukey e visualização dos gráficos de resultados\n",
    "mc = MultiComparison(tratamento['Horas'], tratamento['Remedio'])\n",
    "resultado_teste = mc.tukeyhsd()\n",
    "print(resultado_teste)"
   ]
  },
  {
   "cell_type": "code",
   "execution_count": 41,
   "id": "227f8119",
   "metadata": {},
   "outputs": [
    {
     "name": "stderr",
     "output_type": "stream",
     "text": [
      "C:\\Users\\Libania\\anaconda3\\lib\\site-packages\\statsmodels\\sandbox\\stats\\multicomp.py:775: UserWarning: FixedFormatter should only be used together with FixedLocator\n",
      "  ax1.set_yticklabels(np.insert(self.groupsunique.astype(str), 0, ''))\n"
     ]
    },
    {
     "data": {
      "image/png": "[encoded data removed]",
      "text/plain": [
       "<Figure size 720x432 with 1 Axes>"
      ]
     },
     "execution_count": 41,
     "metadata": {},
     "output_type": "execute_result"
    },
    {
     "data": {
      "image/png": "[encoded data removed]",
      "text/plain": [
       "<Figure size 720x432 with 1 Axes>"
      ]
     },
     "metadata": {
      "needs_background": "light"
     },
     "output_type": "display_data"
    }
   ],
   "source": [
    "resultado_teste.plot_simultaneous()"
   ]
  },
  {
   "cell_type": "code",
   "execution_count": null,
   "id": "42dbf47d",
   "metadata": {},
   "outputs": [],
   "source": []
  }
 ],
 "metadata": {
  "kernelspec": {
   "display_name": "Python 3",
   "language": "python",
   "name": "python3"
  },
  "language_info": {
   "codemirror_mode": {
    "name": "ipython",
    "version": 3
   },
   "file_extension": ".py",
   "mimetype": "text/x-python",
   "name": "python",
   "nbconvert_exporter": "python",
   "pygments_lexer": "ipython3",
   "version": "3.8.8"
  }
 },
 "nbformat": 4,
 "nbformat_minor": 5
}
